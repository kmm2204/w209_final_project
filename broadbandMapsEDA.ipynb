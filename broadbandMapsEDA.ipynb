{
 "cells": [
  {
   "cell_type": "markdown",
   "metadata": {
    "collapsed": true
   },
   "source": [
    "# EDA of FCC broadband map data"
   ]
  },
  {
   "cell_type": "code",
   "execution_count": 1,
   "metadata": {
    "collapsed": true
   },
   "outputs": [],
   "source": [
    "import pandas as pd\n",
    "import numpy as np\n",
    "from pprint import pprint"
   ]
  },
  {
   "cell_type": "markdown",
   "metadata": {},
   "source": [
    "Downloaded from [here](http://transition.fcc.gov/form477/BroadbandData/Fixed/Dec16/Version%201/US-Fixed-with-Satellite-Dec2016.zip\\ \"Fixed Broadband Deployment Data from FCC Form 477\") plus the Data [dictionary](https://www.fcc.gov/general/explanation-broadband-deployment-data) and mobile [addendum](https://transition.fcc.gov/form477/MBD/formatting_mbd.pdf)."
   ]
  },
  {
   "cell_type": "code",
   "execution_count": 2,
   "metadata": {
    "collapsed": true
   },
   "outputs": [],
   "source": [
    "# datafile = 'fbd_us_with_satellite_dec2016_v1.csv' # ~10 Gb\n",
    "datafile = 'fbd_us_without_satellite_dec2016_v1.csv' # ~4 Gb\n",
    "df = pd.read_csv(datafile)"
   ]
  },
  {
   "cell_type": "markdown",
   "metadata": {},
   "source": [
    "### Number of entries"
   ]
  },
  {
   "cell_type": "code",
   "execution_count": 3,
   "metadata": {},
   "outputs": [
    {
     "name": "stdout",
     "output_type": "stream",
     "text": [
      "25,738,665 Entries\n"
     ]
    }
   ],
   "source": [
    "print(\"{:,} Entries\".format(len(df)))"
   ]
  },
  {
   "cell_type": "markdown",
   "metadata": {},
   "source": [
    "### Column names"
   ]
  },
  {
   "cell_type": "code",
   "execution_count": 59,
   "metadata": {},
   "outputs": [
    {
     "name": "stdout",
     "output_type": "stream",
     "text": [
      "BlockCode               int64\n",
      "Business                int64\n",
      "Consumer                int64\n",
      "DBAName                object\n",
      "FRN                     int64\n",
      "HocoFinal              object\n",
      "HocoNum                 int64\n",
      "HoldingCompanyName     object\n",
      "LogRecNo                int64\n",
      "MaxAdDown             float64\n",
      "MaxAdUp               float64\n",
      "MaxCIRDown            float64\n",
      "MaxCIRUp              float64\n",
      "ProviderName           object\n",
      "Provider_Id             int64\n",
      "StateAbbr              object\n",
      "TechCode                int64\n",
      "dtype: object\n"
     ]
    }
   ],
   "source": [
    "pprint(df.dtypes[sorted(df.dtypes.to_dict())])"
   ]
  },
  {
   "cell_type": "markdown",
   "metadata": {},
   "source": [
    "### Representative sample of data"
   ]
  },
  {
   "cell_type": "code",
   "execution_count": 5,
   "metadata": {},
   "outputs": [
    {
     "data": {
      "text/html": [
       "<div>\n",
       "<style>\n",
       "    .dataframe thead tr:only-child th {\n",
       "        text-align: right;\n",
       "    }\n",
       "\n",
       "    .dataframe thead th {\n",
       "        text-align: left;\n",
       "    }\n",
       "\n",
       "    .dataframe tbody tr th {\n",
       "        vertical-align: top;\n",
       "    }\n",
       "</style>\n",
       "<table border=\"1\" class=\"dataframe\">\n",
       "  <thead>\n",
       "    <tr style=\"text-align: right;\">\n",
       "      <th></th>\n",
       "      <th>LogRecNo</th>\n",
       "      <th>Provider_Id</th>\n",
       "      <th>FRN</th>\n",
       "      <th>ProviderName</th>\n",
       "      <th>DBAName</th>\n",
       "      <th>HoldingCompanyName</th>\n",
       "      <th>HocoNum</th>\n",
       "      <th>HocoFinal</th>\n",
       "      <th>StateAbbr</th>\n",
       "      <th>BlockCode</th>\n",
       "      <th>TechCode</th>\n",
       "      <th>Consumer</th>\n",
       "      <th>MaxAdDown</th>\n",
       "      <th>MaxAdUp</th>\n",
       "      <th>Business</th>\n",
       "      <th>MaxCIRDown</th>\n",
       "      <th>MaxCIRUp</th>\n",
       "    </tr>\n",
       "  </thead>\n",
       "  <tbody>\n",
       "    <tr>\n",
       "      <th>10199312</th>\n",
       "      <td>20734511</td>\n",
       "      <td>26471</td>\n",
       "      <td>18589226</td>\n",
       "      <td>Lightower Fiber Networks I, LLC (fka Light Tow...</td>\n",
       "      <td>Lightower</td>\n",
       "      <td>LTS Group Holdings LLC</td>\n",
       "      <td>131095</td>\n",
       "      <td>LTS Group Holdings LLC</td>\n",
       "      <td>CT</td>\n",
       "      <td>90035204004012</td>\n",
       "      <td>50</td>\n",
       "      <td>0</td>\n",
       "      <td>0.0</td>\n",
       "      <td>0.0</td>\n",
       "      <td>1</td>\n",
       "      <td>1000.0</td>\n",
       "      <td>1000.0</td>\n",
       "    </tr>\n",
       "    <tr>\n",
       "      <th>11640254</th>\n",
       "      <td>22175453</td>\n",
       "      <td>26913</td>\n",
       "      <td>11562717</td>\n",
       "      <td>The Montana Internet Corporation</td>\n",
       "      <td>Montana Internet Corporation - H</td>\n",
       "      <td>Montana Internet</td>\n",
       "      <td>240109</td>\n",
       "      <td>Montana Internet</td>\n",
       "      <td>MT</td>\n",
       "      <td>300439622011003</td>\n",
       "      <td>10</td>\n",
       "      <td>1</td>\n",
       "      <td>7.0</td>\n",
       "      <td>1.0</td>\n",
       "      <td>1</td>\n",
       "      <td>0.0</td>\n",
       "      <td>0.0</td>\n",
       "    </tr>\n",
       "    <tr>\n",
       "      <th>22996891</th>\n",
       "      <td>65665801</td>\n",
       "      <td>28708</td>\n",
       "      <td>3737467</td>\n",
       "      <td>New Paris Telephones Quality Cablevision</td>\n",
       "      <td>New Paris Telephone's Quality Cable</td>\n",
       "      <td>New Paris Telephone Company, Inc</td>\n",
       "      <td>130905</td>\n",
       "      <td>New Paris Telephone Company, Inc.</td>\n",
       "      <td>IN</td>\n",
       "      <td>180390009002005</td>\n",
       "      <td>42</td>\n",
       "      <td>1</td>\n",
       "      <td>14.0</td>\n",
       "      <td>3.0</td>\n",
       "      <td>1</td>\n",
       "      <td>14.0</td>\n",
       "      <td>3.0</td>\n",
       "    </tr>\n",
       "    <tr>\n",
       "      <th>446646</th>\n",
       "      <td>446647</td>\n",
       "      <td>25566</td>\n",
       "      <td>3737673</td>\n",
       "      <td>Service Electric Cablevision, Inc.</td>\n",
       "      <td>Service Electric Cablevision, Inc.</td>\n",
       "      <td>Service Electric Television, Inc.</td>\n",
       "      <td>330002</td>\n",
       "      <td>Service Electric Television Inc.</td>\n",
       "      <td>PA</td>\n",
       "      <td>420930502001062</td>\n",
       "      <td>41</td>\n",
       "      <td>1</td>\n",
       "      <td>200.0</td>\n",
       "      <td>15.0</td>\n",
       "      <td>0</td>\n",
       "      <td>0.0</td>\n",
       "      <td>0.0</td>\n",
       "    </tr>\n",
       "    <tr>\n",
       "      <th>25643835</th>\n",
       "      <td>68320711</td>\n",
       "      <td>29424</td>\n",
       "      <td>15457351</td>\n",
       "      <td>Kellin Communications</td>\n",
       "      <td>Kellin Communications</td>\n",
       "      <td>Kellin Communications</td>\n",
       "      <td>300078</td>\n",
       "      <td>Kellin Communications</td>\n",
       "      <td>CO</td>\n",
       "      <td>80350139041016</td>\n",
       "      <td>70</td>\n",
       "      <td>1</td>\n",
       "      <td>15.0</td>\n",
       "      <td>4.0</td>\n",
       "      <td>1</td>\n",
       "      <td>100.0</td>\n",
       "      <td>100.0</td>\n",
       "    </tr>\n",
       "    <tr>\n",
       "      <th>13805443</th>\n",
       "      <td>24340642</td>\n",
       "      <td>27085</td>\n",
       "      <td>3768165</td>\n",
       "      <td>COMCAST CABLE COMMUNICATIONS, LLC</td>\n",
       "      <td>Comcast</td>\n",
       "      <td>Comcast Corporation</td>\n",
       "      <td>130317</td>\n",
       "      <td>Comcast Corporation</td>\n",
       "      <td>VA</td>\n",
       "      <td>515708303002019</td>\n",
       "      <td>42</td>\n",
       "      <td>1</td>\n",
       "      <td>200.0</td>\n",
       "      <td>10.0</td>\n",
       "      <td>1</td>\n",
       "      <td>0.0</td>\n",
       "      <td>0.0</td>\n",
       "    </tr>\n",
       "    <tr>\n",
       "      <th>24503791</th>\n",
       "      <td>67180667</td>\n",
       "      <td>29050</td>\n",
       "      <td>17169327</td>\n",
       "      <td>King Street Wireless, L.P.</td>\n",
       "      <td>King Street Wireless L.P.</td>\n",
       "      <td>King Street Wireless, L.P.</td>\n",
       "      <td>300079</td>\n",
       "      <td>King Street Wireless, L.P.</td>\n",
       "      <td>MI</td>\n",
       "      <td>260270017002062</td>\n",
       "      <td>70</td>\n",
       "      <td>1</td>\n",
       "      <td>1.0</td>\n",
       "      <td>0.2</td>\n",
       "      <td>0</td>\n",
       "      <td>0.0</td>\n",
       "      <td>0.0</td>\n",
       "    </tr>\n",
       "    <tr>\n",
       "      <th>10398690</th>\n",
       "      <td>20933889</td>\n",
       "      <td>26500</td>\n",
       "      <td>18515536</td>\n",
       "      <td>CSS, Inc.</td>\n",
       "      <td>CSSInc</td>\n",
       "      <td>Computer Sales &amp; Services, Inc.</td>\n",
       "      <td>130331</td>\n",
       "      <td>Computer Sales &amp; Services, Inc.</td>\n",
       "      <td>LA</td>\n",
       "      <td>220570217003017</td>\n",
       "      <td>70</td>\n",
       "      <td>1</td>\n",
       "      <td>10.0</td>\n",
       "      <td>10.0</td>\n",
       "      <td>1</td>\n",
       "      <td>0.0</td>\n",
       "      <td>0.0</td>\n",
       "    </tr>\n",
       "    <tr>\n",
       "      <th>18330664</th>\n",
       "      <td>28865863</td>\n",
       "      <td>27656</td>\n",
       "      <td>25646373</td>\n",
       "      <td>Charter Communications, Inc.</td>\n",
       "      <td>Charter Communications Inc</td>\n",
       "      <td>Charter Communications</td>\n",
       "      <td>130235</td>\n",
       "      <td>Charter Communications</td>\n",
       "      <td>OH</td>\n",
       "      <td>390110406003061</td>\n",
       "      <td>42</td>\n",
       "      <td>1</td>\n",
       "      <td>50.0</td>\n",
       "      <td>5.0</td>\n",
       "      <td>1</td>\n",
       "      <td>0.0</td>\n",
       "      <td>0.0</td>\n",
       "    </tr>\n",
       "    <tr>\n",
       "      <th>12664635</th>\n",
       "      <td>23199834</td>\n",
       "      <td>27085</td>\n",
       "      <td>3768165</td>\n",
       "      <td>COMCAST CABLE COMMUNICATIONS, LLC</td>\n",
       "      <td>Comcast</td>\n",
       "      <td>Comcast Corporation</td>\n",
       "      <td>130317</td>\n",
       "      <td>Comcast Corporation</td>\n",
       "      <td>IL</td>\n",
       "      <td>170313301004054</td>\n",
       "      <td>42</td>\n",
       "      <td>1</td>\n",
       "      <td>987.0</td>\n",
       "      <td>35.0</td>\n",
       "      <td>1</td>\n",
       "      <td>0.0</td>\n",
       "      <td>0.0</td>\n",
       "    </tr>\n",
       "  </tbody>\n",
       "</table>\n",
       "</div>"
      ],
      "text/plain": [
       "          LogRecNo  Provider_Id       FRN  \\\n",
       "10199312  20734511        26471  18589226   \n",
       "11640254  22175453        26913  11562717   \n",
       "22996891  65665801        28708   3737467   \n",
       "446646      446647        25566   3737673   \n",
       "25643835  68320711        29424  15457351   \n",
       "13805443  24340642        27085   3768165   \n",
       "24503791  67180667        29050  17169327   \n",
       "10398690  20933889        26500  18515536   \n",
       "18330664  28865863        27656  25646373   \n",
       "12664635  23199834        27085   3768165   \n",
       "\n",
       "                                               ProviderName  \\\n",
       "10199312  Lightower Fiber Networks I, LLC (fka Light Tow...   \n",
       "11640254                   The Montana Internet Corporation   \n",
       "22996891           New Paris Telephones Quality Cablevision   \n",
       "446646                   Service Electric Cablevision, Inc.   \n",
       "25643835                              Kellin Communications   \n",
       "13805443                  COMCAST CABLE COMMUNICATIONS, LLC   \n",
       "24503791                         King Street Wireless, L.P.   \n",
       "10398690                                          CSS, Inc.   \n",
       "18330664                       Charter Communications, Inc.   \n",
       "12664635                  COMCAST CABLE COMMUNICATIONS, LLC   \n",
       "\n",
       "                                      DBAName  \\\n",
       "10199312                            Lightower   \n",
       "11640254     Montana Internet Corporation - H   \n",
       "22996891  New Paris Telephone's Quality Cable   \n",
       "446646     Service Electric Cablevision, Inc.   \n",
       "25643835                Kellin Communications   \n",
       "13805443                              Comcast   \n",
       "24503791            King Street Wireless L.P.   \n",
       "10398690                               CSSInc   \n",
       "18330664           Charter Communications Inc   \n",
       "12664635                              Comcast   \n",
       "\n",
       "                         HoldingCompanyName  HocoNum  \\\n",
       "10199312             LTS Group Holdings LLC   131095   \n",
       "11640254                   Montana Internet   240109   \n",
       "22996891   New Paris Telephone Company, Inc   130905   \n",
       "446646    Service Electric Television, Inc.   330002   \n",
       "25643835              Kellin Communications   300078   \n",
       "13805443                Comcast Corporation   130317   \n",
       "24503791         King Street Wireless, L.P.   300079   \n",
       "10398690    Computer Sales & Services, Inc.   130331   \n",
       "18330664             Charter Communications   130235   \n",
       "12664635                Comcast Corporation   130317   \n",
       "\n",
       "                                  HocoFinal StateAbbr        BlockCode  \\\n",
       "10199312             LTS Group Holdings LLC        CT   90035204004012   \n",
       "11640254                   Montana Internet        MT  300439622011003   \n",
       "22996891  New Paris Telephone Company, Inc.        IN  180390009002005   \n",
       "446646     Service Electric Television Inc.        PA  420930502001062   \n",
       "25643835              Kellin Communications        CO   80350139041016   \n",
       "13805443                Comcast Corporation        VA  515708303002019   \n",
       "24503791         King Street Wireless, L.P.        MI  260270017002062   \n",
       "10398690    Computer Sales & Services, Inc.        LA  220570217003017   \n",
       "18330664             Charter Communications        OH  390110406003061   \n",
       "12664635                Comcast Corporation        IL  170313301004054   \n",
       "\n",
       "          TechCode  Consumer  MaxAdDown  MaxAdUp  Business  MaxCIRDown  \\\n",
       "10199312        50         0        0.0      0.0         1      1000.0   \n",
       "11640254        10         1        7.0      1.0         1         0.0   \n",
       "22996891        42         1       14.0      3.0         1        14.0   \n",
       "446646          41         1      200.0     15.0         0         0.0   \n",
       "25643835        70         1       15.0      4.0         1       100.0   \n",
       "13805443        42         1      200.0     10.0         1         0.0   \n",
       "24503791        70         1        1.0      0.2         0         0.0   \n",
       "10398690        70         1       10.0     10.0         1         0.0   \n",
       "18330664        42         1       50.0      5.0         1         0.0   \n",
       "12664635        42         1      987.0     35.0         1         0.0   \n",
       "\n",
       "          MaxCIRUp  \n",
       "10199312    1000.0  \n",
       "11640254       0.0  \n",
       "22996891       3.0  \n",
       "446646         0.0  \n",
       "25643835     100.0  \n",
       "13805443       0.0  \n",
       "24503791       0.0  \n",
       "10398690       0.0  \n",
       "18330664       0.0  \n",
       "12664635       0.0  "
      ]
     },
     "execution_count": 5,
     "metadata": {},
     "output_type": "execute_result"
    }
   ],
   "source": [
    "df.sample(10)"
   ]
  },
  {
   "cell_type": "markdown",
   "metadata": {},
   "source": [
    "### Percent of consumer vs business broadband providers"
   ]
  },
  {
   "cell_type": "code",
   "execution_count": 6,
   "metadata": {},
   "outputs": [
    {
     "name": "stdout",
     "output_type": "stream",
     "text": [
      "Consumer facing provider percent: 91.08%\n",
      "Business facing provider percent: 8.92%\n"
     ]
    }
   ],
   "source": [
    "num_consumer = len(df[df['Consumer'] == 1])\n",
    "num_business = len(df[df['Consumer'] == 0])\n",
    "\n",
    "print(\"Consumer facing provider percent: {:.2f}%\".format(100.0 * num_consumer / len(df)))\n",
    "print(\"Business facing provider percent: {:.2f}%\".format(100.0 * num_business / len(df)))"
   ]
  },
  {
   "cell_type": "markdown",
   "metadata": {},
   "source": [
    "### Highest number of providers per block\n",
    "Curious results here. There's a census block in Iowa with 29 providers?🤔 I expected that the most populous states would be represented here but I think it is necessary to account for the population size of each block individually."
   ]
  },
  {
   "cell_type": "code",
   "execution_count": 60,
   "metadata": {},
   "outputs": [],
   "source": [
    "df_state_and_block = df.groupby(['StateAbbr', 'BlockCode'])"
   ]
  },
  {
   "cell_type": "code",
   "execution_count": 61,
   "metadata": {
    "scrolled": true
   },
   "outputs": [
    {
     "data": {
      "text/plain": [
       "StateAbbr  BlockCode      \n",
       "IA         191530111141017    29\n",
       "VA         511076110061011    24\n",
       "IL         170313301004040    24\n",
       "GA         131210119002049    24\n",
       "CA         60372077101037     23\n",
       "TX         481130100001102    23\n",
       "DC         110010101001010    21\n",
       "TX         481130136163033    20\n",
       "IL         170438446022007    20\n",
       "           170318391002001    20\n",
       "           170438446012015    20\n",
       "NY         360610096001005    19\n",
       "           360610092001015    19\n",
       "DC         110010107001019    19\n",
       "NY         360610033003021    18\n",
       "WA         530330072001058    18\n",
       "IL         170317705002070    18\n",
       "DC         110010101001015    18\n",
       "           110010107001030    18\n",
       "IL         170318391002021    18\n",
       "CA         60750233001003     18\n",
       "PA         421010004022016    18\n",
       "NY         360610109001008    18\n",
       "PA         421010376002033    18\n",
       "NY         360610080002000    18\n",
       "           360610109001001    18\n",
       "           360610119001004    18\n",
       "TX         481130137221015    18\n",
       "IL         170318391001095    18\n",
       "NY         360610058001006    18\n",
       "                              ..\n",
       "MS         281199503001029     1\n",
       "           281199503001031     1\n",
       "           281199503002021     1\n",
       "           281199503002042     1\n",
       "           281199503002041     1\n",
       "           281199503002040     1\n",
       "           281199503002039     1\n",
       "           281199503002038     1\n",
       "           281199503002037     1\n",
       "           281199503002032     1\n",
       "           281199503002031     1\n",
       "           281199503002029     1\n",
       "           281199503002027     1\n",
       "           281199503002024     1\n",
       "           281199503002023     1\n",
       "           281199503002016     1\n",
       "           281199503001033     1\n",
       "           281199503002015     1\n",
       "           281199503002014     1\n",
       "           281199503002005     1\n",
       "           281199503001075     1\n",
       "           281199503001073     1\n",
       "           281199503001071     1\n",
       "           281199503001070     1\n",
       "           281199503001063     1\n",
       "           281199503001057     1\n",
       "           281199503001053     1\n",
       "           281199503001040     1\n",
       "           281199503001039     1\n",
       "AK         20130001001012      1\n",
       "Name: Provider_Id, Length: 9140891, dtype: int64"
      ]
     },
     "execution_count": 61,
     "metadata": {},
     "output_type": "execute_result"
    }
   ],
   "source": [
    "df_providers = df_state_and_block['Provider_Id']\n",
    "df_providers.nunique().sort_values(ascending=False)"
   ]
  },
  {
   "cell_type": "code",
   "execution_count": 45,
   "metadata": {},
   "outputs": [
    {
     "data": {
      "text/plain": [
       "LogRecNo                int64\n",
       "Provider_Id             int64\n",
       "FRN                     int64\n",
       "ProviderName           object\n",
       "DBAName                object\n",
       "HoldingCompanyName     object\n",
       "HocoNum                 int64\n",
       "HocoFinal              object\n",
       "StateAbbr              object\n",
       "BlockCode               int64\n",
       "TechCode                int64\n",
       "Consumer                int64\n",
       "MaxAdDown             float64\n",
       "MaxAdUp               float64\n",
       "Business                int64\n",
       "MaxCIRDown            float64\n",
       "MaxCIRUp              float64\n",
       "dtype: object"
      ]
     },
     "execution_count": 45,
     "metadata": {},
     "output_type": "execute_result"
    }
   ],
   "source": []
  },
  {
   "cell_type": "markdown",
   "metadata": {},
   "source": [
    "### Number of blockcodes per state\n",
    "No surprises here, the data is more or less sorted by state / territory population. Though it should be noted that it isn't exact, eg. CA has a higher population than TX and FL should be 3rd. This is probably because of how census tracts are defined rather than anything wierd in the data"
   ]
  },
  {
   "cell_type": "code",
   "execution_count": 37,
   "metadata": {},
   "outputs": [],
   "source": [
    "df_states = df.groupby('StateAbbr')['BlockCode'].count()"
   ]
  },
  {
   "cell_type": "code",
   "execution_count": 38,
   "metadata": {},
   "outputs": [
    {
     "data": {
      "text/plain": [
       "StateAbbr\n",
       "TX    2457999\n",
       "CA    1883962\n",
       "IL    1497218\n",
       "OH    1027982\n",
       "PA     948335\n",
       "FL     883904\n",
       "IN     879092\n",
       "MI     868378\n",
       "NY     795356\n",
       "MO     775587\n",
       "WI     707543\n",
       "KS     677036\n",
       "MN     660231\n",
       "WA     643924\n",
       "NJ     612360\n",
       "NC     600011\n",
       "NE     584816\n",
       "OK     525402\n",
       "CO     488886\n",
       "IA     487728\n",
       "TN     475339\n",
       "GA     470800\n",
       "AL     455383\n",
       "VA     437609\n",
       "AZ     434195\n",
       "OR     381340\n",
       "LA     359752\n",
       "PR     355781\n",
       "KY     345970\n",
       "SC     328419\n",
       "AR     299062\n",
       "WV     298764\n",
       "ID     292829\n",
       "MA     279229\n",
       "MD     255308\n",
       "UT     247661\n",
       "MS     238762\n",
       "MT     225679\n",
       "NM     219008\n",
       "CT     207384\n",
       "ND     175258\n",
       "SD     150056\n",
       "NV     140477\n",
       "WY     130200\n",
       "ME     114922\n",
       "NH      87381\n",
       "VT      70192\n",
       "HI      55027\n",
       "RI      52364\n",
       "DE      42155\n",
       "AK      38898\n",
       "VI      32053\n",
       "DC      25581\n",
       "GU       4308\n",
       "MP       4092\n",
       "AS       1677\n",
       "Name: BlockCode, dtype: int64"
      ]
     },
     "execution_count": 38,
     "metadata": {},
     "output_type": "execute_result"
    }
   ],
   "source": [
    "df_states.sort_values(ascending=False)"
   ]
  },
  {
   "cell_type": "code",
   "execution_count": null,
   "metadata": {
    "collapsed": true
   },
   "outputs": [],
   "source": []
  }
 ],
 "metadata": {
  "kernelspec": {
   "display_name": "Python [conda root]",
   "language": "python",
   "name": "conda-root-py"
  },
  "language_info": {
   "codemirror_mode": {
    "name": "ipython",
    "version": 2
   },
   "file_extension": ".py",
   "mimetype": "text/x-python",
   "name": "python",
   "nbconvert_exporter": "python",
   "pygments_lexer": "ipython2",
   "version": "2.7.13"
  }
 },
 "nbformat": 4,
 "nbformat_minor": 2
}
